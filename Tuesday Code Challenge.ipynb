{
 "cells": [
  {
   "cell_type": "markdown",
   "metadata": {},
   "source": [
    "# Tuesday Code Challenge"
   ]
  },
  {
   "cell_type": "markdown",
   "metadata": {},
   "source": [
    "Below is a code snippet that reads in a JSON file containing data extracted from academic papers as a Pandas DataFrame "
   ]
  },
  {
   "cell_type": "code",
   "execution_count": 15,
   "metadata": {},
   "outputs": [
    {
     "data": {
      "text/html": [
       "<div>\n",
       "<style scoped>\n",
       "    .dataframe tbody tr th:only-of-type {\n",
       "        vertical-align: middle;\n",
       "    }\n",
       "\n",
       "    .dataframe tbody tr th {\n",
       "        vertical-align: top;\n",
       "    }\n",
       "\n",
       "    .dataframe thead th {\n",
       "        text-align: right;\n",
       "    }\n",
       "</style>\n",
       "<table border=\"1\" class=\"dataframe\">\n",
       "  <thead>\n",
       "    <tr style=\"text-align: right;\">\n",
       "      <th></th>\n",
       "      <th>contents</th>\n",
       "      <th>emails</th>\n",
       "      <th>filename</th>\n",
       "      <th>institutions</th>\n",
       "      <th>people</th>\n",
       "      <th>places</th>\n",
       "    </tr>\n",
       "  </thead>\n",
       "  <tbody>\n",
       "    <tr>\n",
       "      <th>Navigation to Small Bodies</th>\n",
       "      <td>See discussions, stats, and author profiles fo...</td>\n",
       "      <td>[85721srs51@email.arizona.eduRavi, 85721rnalla...</td>\n",
       "      <td>txt_files/Navigation to Small Bodies.txt</td>\n",
       "      <td>[IEEE Aerospace Conference, Arizona State Univ...</td>\n",
       "      <td>[Raviteja Nallapu, Jekan Thangavelautham, gdek...</td>\n",
       "      <td>[Arizona, Tucson, AZ, Arizona, Tucson, AZ, AZ ...</td>\n",
       "    </tr>\n",
       "    <tr>\n",
       "      <th>ASTRONOMICAL ENGINEERING</th>\n",
       "      <td>ASTRONOMICAL ENGINEERING: A STRATEGY FOR MODIF...</td>\n",
       "      <td>[kory@ucolick.org, gpl@acetylene.arc.nasa.govF...</td>\n",
       "      <td>txt_files/ASTRONOMICAL ENGINEERING.txt</td>\n",
       "      <td>[ORBITSD.G. KORYCANSKY CODEP Dept Earth Scienc...</td>\n",
       "      <td>[CA 95064, GREGORY LAUGHLIN, gpl@acetylene.arc...</td>\n",
       "      <td>[Santa Cruz, CA 94035, U.S.A., Ann Arbor, MI 4...</td>\n",
       "    </tr>\n",
       "    <tr>\n",
       "      <th>Phase II of the Main Belt Asteroid Spectrosopic Survey</th>\n",
       "      <td>Icarus 158, 146�177 (2002) doi:10.1006/icar.20...</td>\n",
       "      <td>[sjb@ifa.hawaii.eduReceived]</td>\n",
       "      <td>txt_files/Phase II of the Main Belt Asteroid S...</td>\n",
       "      <td>[Planetary Sciences, Massachusetts Institute o...</td>\n",
       "      <td>[Icarus 158, Richard P. BinzelDepartment, doi,...</td>\n",
       "      <td>[Cambridge, Massachusetts, Hilo, albedos, albe...</td>\n",
       "    </tr>\n",
       "    <tr>\n",
       "      <th>Devlopment of Xenon Hall Thrusters</th>\n",
       "      <td>NASA/CR--2004-213099https://ntrs.nasa.gov/sear...</td>\n",
       "      <td>[help@sti.nasa.gov�]</td>\n",
       "      <td>txt_files/Devlopment of Xenon Hall Thrusters.txt</td>\n",
       "      <td>[NASA, Characterization of High-Efficiency, Mi...</td>\n",
       "      <td>[Richard R., Thermalized, Gaussmeter.............</td>\n",
       "      <td>[Ann Arbor, Michigan, Ann Arbor, MD, VA, Wien,...</td>\n",
       "    </tr>\n",
       "    <tr>\n",
       "      <th>Mine planning for Asteroid Ore Bodies</th>\n",
       "      <td>Space Resources Roundtable II (2000)7030.pdfMI...</td>\n",
       "      <td>[1lgertsch@mtu.edu,, 2rgertsch@mtu.edu.Introdu...</td>\n",
       "      <td>txt_files/Mine planning for Asteroid Ore Bodie...</td>\n",
       "      <td>[Michigan Technological University, Mining Eng...</td>\n",
       "      <td>[L. S. Gertsch1, R. E. Gertsch2, L. S. Gertsch...</td>\n",
       "      <td>[Houghton, MI, Friable Rock, Hard Rock, Univ, ...</td>\n",
       "    </tr>\n",
       "  </tbody>\n",
       "</table>\n",
       "</div>"
      ],
      "text/plain": [
       "                                                                                             contents  \\\n",
       "Navigation to Small Bodies                          See discussions, stats, and author profiles fo...   \n",
       "ASTRONOMICAL ENGINEERING                            ASTRONOMICAL ENGINEERING: A STRATEGY FOR MODIF...   \n",
       "Phase II of the Main Belt Asteroid Spectrosopic...  Icarus 158, 146�177 (2002) doi:10.1006/icar.20...   \n",
       "Devlopment of Xenon Hall Thrusters                  NASA/CR--2004-213099https://ntrs.nasa.gov/sear...   \n",
       "Mine planning for Asteroid Ore Bodies               Space Resources Roundtable II (2000)7030.pdfMI...   \n",
       "\n",
       "                                                                                               emails  \\\n",
       "Navigation to Small Bodies                          [85721srs51@email.arizona.eduRavi, 85721rnalla...   \n",
       "ASTRONOMICAL ENGINEERING                            [kory@ucolick.org, gpl@acetylene.arc.nasa.govF...   \n",
       "Phase II of the Main Belt Asteroid Spectrosopic...                       [sjb@ifa.hawaii.eduReceived]   \n",
       "Devlopment of Xenon Hall Thrusters                                               [help@sti.nasa.gov�]   \n",
       "Mine planning for Asteroid Ore Bodies               [1lgertsch@mtu.edu,, 2rgertsch@mtu.edu.Introdu...   \n",
       "\n",
       "                                                                                             filename  \\\n",
       "Navigation to Small Bodies                                   txt_files/Navigation to Small Bodies.txt   \n",
       "ASTRONOMICAL ENGINEERING                                       txt_files/ASTRONOMICAL ENGINEERING.txt   \n",
       "Phase II of the Main Belt Asteroid Spectrosopic...  txt_files/Phase II of the Main Belt Asteroid S...   \n",
       "Devlopment of Xenon Hall Thrusters                   txt_files/Devlopment of Xenon Hall Thrusters.txt   \n",
       "Mine planning for Asteroid Ore Bodies               txt_files/Mine planning for Asteroid Ore Bodie...   \n",
       "\n",
       "                                                                                         institutions  \\\n",
       "Navigation to Small Bodies                          [IEEE Aerospace Conference, Arizona State Univ...   \n",
       "ASTRONOMICAL ENGINEERING                            [ORBITSD.G. KORYCANSKY CODEP Dept Earth Scienc...   \n",
       "Phase II of the Main Belt Asteroid Spectrosopic...  [Planetary Sciences, Massachusetts Institute o...   \n",
       "Devlopment of Xenon Hall Thrusters                  [NASA, Characterization of High-Efficiency, Mi...   \n",
       "Mine planning for Asteroid Ore Bodies               [Michigan Technological University, Mining Eng...   \n",
       "\n",
       "                                                                                               people  \\\n",
       "Navigation to Small Bodies                          [Raviteja Nallapu, Jekan Thangavelautham, gdek...   \n",
       "ASTRONOMICAL ENGINEERING                            [CA 95064, GREGORY LAUGHLIN, gpl@acetylene.arc...   \n",
       "Phase II of the Main Belt Asteroid Spectrosopic...  [Icarus 158, Richard P. BinzelDepartment, doi,...   \n",
       "Devlopment of Xenon Hall Thrusters                  [Richard R., Thermalized, Gaussmeter.............   \n",
       "Mine planning for Asteroid Ore Bodies               [L. S. Gertsch1, R. E. Gertsch2, L. S. Gertsch...   \n",
       "\n",
       "                                                                                               places  \n",
       "Navigation to Small Bodies                          [Arizona, Tucson, AZ, Arizona, Tucson, AZ, AZ ...  \n",
       "ASTRONOMICAL ENGINEERING                            [Santa Cruz, CA 94035, U.S.A., Ann Arbor, MI 4...  \n",
       "Phase II of the Main Belt Asteroid Spectrosopic...  [Cambridge, Massachusetts, Hilo, albedos, albe...  \n",
       "Devlopment of Xenon Hall Thrusters                  [Ann Arbor, Michigan, Ann Arbor, MD, VA, Wien,...  \n",
       "Mine planning for Asteroid Ore Bodies               [Houghton, MI, Friable Rock, Hard Rock, Univ, ...  "
      ]
     },
     "execution_count": 15,
     "metadata": {},
     "output_type": "execute_result"
    }
   ],
   "source": [
    "import pandas as pd\n",
    "import json\n",
    "\n",
    "\n",
    "with open('Lambda_NLP_Week_Code_Challenge/documents.json') as f:\n",
    "    df = pd.DataFrame(json.load(f)).T.drop(columns = 'emails')\n",
    "\n",
    "df.head()"
   ]
  },
  {
   "cell_type": "markdown",
   "metadata": {},
   "source": [
    "## 1. Create a new column containing the tokenized contents of each paper"
   ]
  },
  {
   "cell_type": "markdown",
   "metadata": {},
   "source": [
    "### Tokens should\n",
    "- Be all lower case characters\n",
    "- Contain only alpha numeric characters\n",
    "- Be stored as a list"
   ]
  },
  {
   "cell_type": "code",
   "execution_count": null,
   "metadata": {},
   "outputs": [],
   "source": []
  },
  {
   "cell_type": "markdown",
   "metadata": {},
   "source": [
    "## 2. Using regular expressions, create a new column containing the emails from each paper"
   ]
  },
  {
   "cell_type": "code",
   "execution_count": null,
   "metadata": {},
   "outputs": [],
   "source": []
  },
  {
   "cell_type": "markdown",
   "metadata": {},
   "source": [
    "## 3. Using Spacy, create a new column containing the lemmas from each paper (this might take a second)"
   ]
  },
  {
   "cell_type": "code",
   "execution_count": null,
   "metadata": {},
   "outputs": [],
   "source": []
  },
  {
   "cell_type": "markdown",
   "metadata": {},
   "source": [
    "## 4. Using Spacy, create a column containing the 10 most common words in each paper after stopwords are removed\n",
    "\n",
    "### Stretch: Remove more common stopwords"
   ]
  },
  {
   "cell_type": "code",
   "execution_count": null,
   "metadata": {},
   "outputs": [],
   "source": []
  }
 ],
 "metadata": {
  "kernelspec": {
   "display_name": "Python 3",
   "language": "python",
   "name": "python3"
  },
  "language_info": {
   "codemirror_mode": {
    "name": "ipython",
    "version": 3
   },
   "file_extension": ".py",
   "mimetype": "text/x-python",
   "name": "python",
   "nbconvert_exporter": "python",
   "pygments_lexer": "ipython3",
   "version": "3.7.0"
  }
 },
 "nbformat": 4,
 "nbformat_minor": 2
}
